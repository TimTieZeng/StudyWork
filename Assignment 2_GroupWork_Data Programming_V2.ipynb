{
 "cells": [
  {
   "cell_type": "code",
   "execution_count": 44,
   "metadata": {},
   "outputs": [
    {
     "name": "stdout",
     "output_type": "stream",
     "text": [
      "Enter Your Name Please:Team(Jenny, Mayank, Denis, Tim)\n",
      "Welcome Team(Jenny, Mayank, Denis, Tim)\n"
     ]
    }
   ],
   "source": [
    "#Excercise_2 Chapter_2\n",
    "name=input(\"Enter Your Name Please:\")\n",
    "print(\"Welcome\",name)"
   ]
  },
  {
   "cell_type": "code",
   "execution_count": 4,
   "metadata": {},
   "outputs": [
    {
     "name": "stdout",
     "output_type": "stream",
     "text": [
      "Enter the number of Hours Please:48\n",
      "Enter the Rate Please:16\n",
      "Total Pay 768.0\n"
     ]
    }
   ],
   "source": [
    "#Excercise_3 Chapter_2\n",
    "hours=float(input(\"Enter the number of Hours Please:\"))\n",
    "rate=float(input(\"Enter the Rate Please:\"))\n",
    "pay=hours*rate\n",
    "print(\"Total Pay\",pay)"
   ]
  },
  {
   "cell_type": "code",
   "execution_count": 5,
   "metadata": {},
   "outputs": [
    {
     "name": "stdout",
     "output_type": "stream",
     "text": [
      "8\n"
     ]
    },
    {
     "data": {
      "text/plain": [
       "int"
      ]
     },
     "execution_count": 5,
     "metadata": {},
     "output_type": "execute_result"
    }
   ],
   "source": [
    "#Excercise_4 Chapter_2\n",
    "width=17\n",
    "height=12.0\n",
    "print(width//2)\n",
    "type(width//2)"
   ]
  },
  {
   "cell_type": "code",
   "execution_count": 6,
   "metadata": {},
   "outputs": [
    {
     "name": "stdout",
     "output_type": "stream",
     "text": [
      "8.5\n"
     ]
    },
    {
     "data": {
      "text/plain": [
       "float"
      ]
     },
     "execution_count": 6,
     "metadata": {},
     "output_type": "execute_result"
    }
   ],
   "source": [
    "print(width/2.0)\n",
    "type(width/2.0)"
   ]
  },
  {
   "cell_type": "code",
   "execution_count": 7,
   "metadata": {},
   "outputs": [
    {
     "name": "stdout",
     "output_type": "stream",
     "text": [
      "4.0\n"
     ]
    },
    {
     "data": {
      "text/plain": [
       "float"
      ]
     },
     "execution_count": 7,
     "metadata": {},
     "output_type": "execute_result"
    }
   ],
   "source": [
    "print(height/3)\n",
    "type(height/3)"
   ]
  },
  {
   "cell_type": "code",
   "execution_count": 8,
   "metadata": {},
   "outputs": [
    {
     "name": "stdout",
     "output_type": "stream",
     "text": [
      "11\n"
     ]
    },
    {
     "data": {
      "text/plain": [
       "int"
      ]
     },
     "execution_count": 8,
     "metadata": {},
     "output_type": "execute_result"
    }
   ],
   "source": [
    "print(1+2*5)\n",
    "type(1+2*5)"
   ]
  },
  {
   "cell_type": "code",
   "execution_count": 11,
   "metadata": {},
   "outputs": [
    {
     "name": "stdout",
     "output_type": "stream",
     "text": [
      "Input the current temperature in Celsius:17.5\n",
      "The temperature is  63.5  Farenheit\n"
     ]
    }
   ],
   "source": [
    "#Excercise_5 Chapter_2\n",
    "temp=float(input(\"Input the current temperature in Celsius:\"))\n",
    "temp=temp*9/5+32\n",
    "print(\"The temperature is \",temp,\" Farenheit\")"
   ]
  },
  {
   "cell_type": "code",
   "execution_count": 21,
   "metadata": {},
   "outputs": [
    {
     "name": "stdout",
     "output_type": "stream",
     "text": [
      "Enter the number of Hours Please 42\n",
      "Enter the Rate Please 10\n",
      "The Pay is  430.0\n"
     ]
    }
   ],
   "source": [
    "#Excercise_1 Chapter_3\n",
    "hours=float(input(\"Enter the number of Hours Please \"))\n",
    "rate=float(input(\"Enter the Rate Please \"))\n",
    "if(hours>40):\n",
    "    pay=hours*rate+(hours-40)*rate*0.5\n",
    "else:\n",
    "    pay=hours*rate\n",
    "print(\"The Pay is \",pay)"
   ]
  },
  {
   "cell_type": "code",
   "execution_count": 13,
   "metadata": {},
   "outputs": [
    {
     "name": "stdout",
     "output_type": "stream",
     "text": [
      "Enter the number of Hours Please:nine\n",
      "Error. Please enter a numeric number.\n"
     ]
    }
   ],
   "source": [
    "#Excercise_2_1 Chapter_3\n",
    "try:\n",
    "    hours=float(input(\"Enter the number of Hours Please:\"))\n",
    "    rate=float(input(\"Enter the Rate Please:\"))\n",
    "    pay=hours*rate\n",
    "    print(\"Total Pay\",pay) \n",
    "except:\n",
    "    print(\"Error. Please enter a numeric number.\")\n",
    "    exit"
   ]
  },
  {
   "cell_type": "code",
   "execution_count": 1,
   "metadata": {},
   "outputs": [
    {
     "name": "stdout",
     "output_type": "stream",
     "text": [
      "Enter the number of Hours Please:9\n",
      "Enter the Rate Please:nein\n",
      "Error. Please enter a numeric number.\n"
     ]
    }
   ],
   "source": [
    "#Excercise_2_2 Chapter_3\n",
    "try:\n",
    "    hours=float(input(\"Enter the number of Hours Please:\"))\n",
    "    rate=float(input(\"Enter the Rate Please:\"))\n",
    "    pay=hours*rate\n",
    "    print(\"Total Pay\",pay) \n",
    "except:\n",
    "    print(\"Error. Please enter a numeric number.\")\n",
    "    exit"
   ]
  },
  {
   "cell_type": "code",
   "execution_count": 25,
   "metadata": {},
   "outputs": [
    {
     "name": "stdout",
     "output_type": "stream",
     "text": [
      "Please enter a score between 0.0 and 1.0 :0.95\n",
      "A\n"
     ]
    }
   ],
   "source": [
    "#Excercise_3_1 Chapter_3\n",
    "try:\n",
    "    score=float(input(\"Please enter a score between 0.0 and 1.0 :\"))\n",
    "    if  score>=0 and score<0.6:\n",
    "        print(\"F\")\n",
    "    elif score>=0.6 and score<0.7:\n",
    "        print(\"D\")\n",
    "    elif score>=0.7 and score<0.8:\n",
    "        print(\"C\")\n",
    "    elif score>=0.8 and score<0.9:\n",
    "        print(\"B\")\n",
    "    elif score>=0.9 and score<=1.0:\n",
    "        print(\"A\")\n",
    "    else:\n",
    "        print(\"Error. Input out of range.\")\n",
    "except:\n",
    "    print(\"Bad score\")"
   ]
  },
  {
   "cell_type": "code",
   "execution_count": 32,
   "metadata": {},
   "outputs": [
    {
     "name": "stdout",
     "output_type": "stream",
     "text": [
      "Please enter a score between 0.0 and 1.0 :perfect\n",
      "Bad score\n"
     ]
    }
   ],
   "source": [
    "#Excercise_3_2 Chapter_3\n",
    "try:\n",
    "    score=float(input(\"Please enter a score between 0.0 and 1.0 :\"))\n",
    "    if  score>=0 and score<0.6:\n",
    "        print(\"F\")\n",
    "    elif score>=0.6 and score<0.7:\n",
    "        print(\"D\")\n",
    "    elif score>=0.7 and score<0.8:\n",
    "        print(\"C\")\n",
    "    elif score>=0.8 and score<0.9:\n",
    "        print(\"B\")\n",
    "    elif score>=0.9 and score<=1.0:\n",
    "        print(\"A\")\n",
    "    else:\n",
    "        print(\"Error. Input out of range.\")\n",
    "except:\n",
    "    print(\"Bad score\")"
   ]
  },
  {
   "cell_type": "code",
   "execution_count": 30,
   "metadata": {},
   "outputs": [
    {
     "name": "stdout",
     "output_type": "stream",
     "text": [
      "Please enter a score between 0.0 and 1.0 :10.0\n",
      "Error. Input out of range.\n"
     ]
    }
   ],
   "source": [
    "#Excercise_3_3 Chapter_3\n",
    "try:\n",
    "    score=float(input(\"Please enter a score between 0.0 and 1.0 :\"))\n",
    "    if  score>=0 and score<0.6:\n",
    "        print(\"F\")\n",
    "    elif score>=0.6 and score<0.7:\n",
    "        print(\"D\")\n",
    "    elif score>=0.7 and score<0.8:\n",
    "        print(\"C\")\n",
    "    elif score>=0.8 and score<0.9:\n",
    "        print(\"B\")\n",
    "    elif score>=0.9 and score<=1.0:\n",
    "        print(\"A\")\n",
    "    else:\n",
    "        print(\"Error. Input out of range.\")\n",
    "except:\n",
    "    print(\"Bad score\")"
   ]
  },
  {
   "cell_type": "code",
   "execution_count": 33,
   "metadata": {},
   "outputs": [
    {
     "name": "stdout",
     "output_type": "stream",
     "text": [
      "Please enter a score between 0.0 and 1.0 :0.75\n",
      "C\n"
     ]
    }
   ],
   "source": [
    "#Excercise_3_4 Chapter_3\n",
    "try:\n",
    "    score=float(input(\"Please enter a score between 0.0 and 1.0 :\"))\n",
    "    if  score>=0 and score<0.6:\n",
    "        print(\"F\")\n",
    "    elif score>=0.6 and score<0.7:\n",
    "        print(\"D\")\n",
    "    elif score>=0.7 and score<0.8:\n",
    "        print(\"C\")\n",
    "    elif score>=0.8 and score<0.9:\n",
    "        print(\"B\")\n",
    "    elif score>=0.9 and score<=1.0:\n",
    "        print(\"A\")\n",
    "    else:\n",
    "        print(\"Error. Input out of range.\")\n",
    "except:\n",
    "    print(\"Bad score\")"
   ]
  },
  {
   "cell_type": "code",
   "execution_count": 34,
   "metadata": {},
   "outputs": [
    {
     "name": "stdout",
     "output_type": "stream",
     "text": [
      "Please enter a score between 0.0 and 1.0 :0.5\n",
      "F\n"
     ]
    }
   ],
   "source": [
    "#Excercise_3_5 Chapter_3\n",
    "try:\n",
    "    score=float(input(\"Please enter a score between 0.0 and 1.0 :\"))\n",
    "    if  score>=0 and score<0.6:\n",
    "        print(\"F\")\n",
    "    elif score>=0.6 and score<0.7:\n",
    "        print(\"D\")\n",
    "    elif score>=0.7 and score<0.8:\n",
    "        print(\"C\")\n",
    "    elif score>=0.8 and score<0.9:\n",
    "        print(\"B\")\n",
    "    elif score>=0.9 and score<=1.0:\n",
    "        print(\"A\")\n",
    "    else:\n",
    "        print(\"Error. Input out of range.\")\n",
    "except:\n",
    "    print(\"Bad score\")"
   ]
  },
  {
   "cell_type": "code",
   "execution_count": 31,
   "metadata": {},
   "outputs": [
    {
     "name": "stdout",
     "output_type": "stream",
     "text": [
      "ABC\n",
      "Zap\n",
      "ABC\n"
     ]
    }
   ],
   "source": [
    "#Excercise_5 Chapter_4\n",
    "def fred():\n",
    "    print(\"Zap\")\n",
    "def jane():\n",
    "    print(\"ABC\")\n",
    "jane()\n",
    "fred()\n",
    "jane()"
   ]
  },
  {
   "cell_type": "code",
   "execution_count": 46,
   "metadata": {},
   "outputs": [
    {
     "name": "stdout",
     "output_type": "stream",
     "text": [
      "Enter the number of Hours Please 45\n",
      "Enter the Rate Please 12.5\n",
      "The Pay is  593.75\n"
     ]
    }
   ],
   "source": [
    "#Excercise_6 Chapter_4\n",
    "def computepay(hours,rate):\n",
    "    if(hours>40):\n",
    "        pay=hours*rate+(hours-40)*rate*0.5\n",
    "    else:\n",
    "        pay=hours*rate\n",
    "    print(\"The Pay is \",pay)\n",
    "        \n",
    "hours=float(input(\"Enter the number of Hours Please \"))\n",
    "rate=float(input(\"Enter the Rate Please \"))\n",
    "computepay(hours,rate)\n"
   ]
  },
  {
   "cell_type": "code",
   "execution_count": 35,
   "metadata": {},
   "outputs": [],
   "source": [
    "#Excercise_7 Chapter_4\n",
    "def computegrade(score):\n",
    "    try:\n",
    "        score=float(score)\n",
    "        if  score>=0 and score<0.6:\n",
    "            print(\"F\")\n",
    "        elif score>=0.6 and score<0.7:\n",
    "            print(\"D\")\n",
    "        elif score>=0.7 and score<0.8:\n",
    "            print(\"C\")\n",
    "        elif score>=0.8 and score<0.9:\n",
    "            print(\"B\")\n",
    "        elif score>=0.9 and score<=1.0:\n",
    "            print(\"A\")\n",
    "        else:\n",
    "            print(\"Error. Input out of range.\")\n",
    "    except:\n",
    "        print(\"Bad score\")"
   ]
  },
  {
   "cell_type": "code",
   "execution_count": 36,
   "metadata": {},
   "outputs": [
    {
     "name": "stdout",
     "output_type": "stream",
     "text": [
      "Enter score: 0.95\n",
      "A\n"
     ]
    }
   ],
   "source": [
    "computegrade(input(\"Enter score: \"))"
   ]
  },
  {
   "cell_type": "code",
   "execution_count": 37,
   "metadata": {},
   "outputs": [
    {
     "name": "stdout",
     "output_type": "stream",
     "text": [
      "Enter score: perfect\n",
      "Bad score\n"
     ]
    }
   ],
   "source": [
    "computegrade(input(\"Enter score: \"))"
   ]
  },
  {
   "cell_type": "code",
   "execution_count": 38,
   "metadata": {},
   "outputs": [
    {
     "name": "stdout",
     "output_type": "stream",
     "text": [
      "Enter score: 10\n",
      "Error. Input out of range.\n"
     ]
    }
   ],
   "source": [
    "computegrade(input(\"Enter score: \"))"
   ]
  },
  {
   "cell_type": "code",
   "execution_count": 39,
   "metadata": {},
   "outputs": [
    {
     "name": "stdout",
     "output_type": "stream",
     "text": [
      "Enter score: 0.75\n",
      "C\n"
     ]
    }
   ],
   "source": [
    "computegrade(input(\"Enter score: \"))"
   ]
  },
  {
   "cell_type": "code",
   "execution_count": 40,
   "metadata": {},
   "outputs": [
    {
     "name": "stdout",
     "output_type": "stream",
     "text": [
      "Enter score: 0.5\n",
      "F\n"
     ]
    }
   ],
   "source": [
    "computegrade(input(\"Enter score: \"))"
   ]
  },
  {
   "cell_type": "code",
   "execution_count": null,
   "metadata": {},
   "outputs": [],
   "source": []
  }
 ],
 "metadata": {
  "kernelspec": {
   "display_name": "Python 3",
   "language": "python",
   "name": "python3"
  },
  "language_info": {
   "codemirror_mode": {
    "name": "ipython",
    "version": 3
   },
   "file_extension": ".py",
   "mimetype": "text/x-python",
   "name": "python",
   "nbconvert_exporter": "python",
   "pygments_lexer": "ipython3",
   "version": "3.7.3"
  }
 },
 "nbformat": 4,
 "nbformat_minor": 2
}
