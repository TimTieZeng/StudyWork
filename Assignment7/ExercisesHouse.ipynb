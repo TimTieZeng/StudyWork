{
 "cells": [
  {
   "cell_type": "markdown",
   "metadata": {},
   "source": [
    "# Housing Market"
   ]
  },
  {
   "cell_type": "markdown",
   "metadata": {},
   "source": [
    "### Introduction:\n",
    "\n",
    "This time we will create our own dataset with fictional numbers to describe a house market. As we are going to create random data don't try to reason of the numbers.\n",
    "\n",
    "### Step 1. Import the necessary libraries"
   ]
  },
  {
   "cell_type": "code",
   "execution_count": 30,
   "metadata": {},
   "outputs": [],
   "source": [
    "import pandas as pd\n",
    "import numpy as np\n",
    "import random"
   ]
  },
  {
   "cell_type": "markdown",
   "metadata": {},
   "source": [
    "### Step 2. Create 3 differents Series, each of length 100, as follows: \n",
    "1. The first a random number from 1 to 4 \n",
    "2. The second a random number from 1 to 3\n",
    "3. The third a random number from 10,000 to 30,000"
   ]
  },
  {
   "cell_type": "code",
   "execution_count": 20,
   "metadata": {},
   "outputs": [],
   "source": [
    "lista=[]\n",
    "listb=[]\n",
    "listc=[]\n",
    "for i in range(100):\n",
    "    lista.append(random.randint(1,4))\n",
    "    listb.append(random.randint(1,3))\n",
    "    listc.append(random.randint(10000,30000))\n",
    "a=pd.Series(lista,name='a')\n",
    "b=pd.Series(listb,name='b')\n",
    "c=pd.Series(listc,name='c')"
   ]
  },
  {
   "cell_type": "markdown",
   "metadata": {},
   "source": [
    "### Step 3. Let's create a DataFrame by joinning the Series by column"
   ]
  },
  {
   "cell_type": "code",
   "execution_count": 23,
   "metadata": {},
   "outputs": [],
   "source": [
    "df=pd.DataFrame({'a':a,'b':b,'c':c})"
   ]
  },
  {
   "cell_type": "markdown",
   "metadata": {},
   "source": [
    "### Step 4. Change the name of the columns to bedrs, bathrs, price_sqr_meter"
   ]
  },
  {
   "cell_type": "code",
   "execution_count": 27,
   "metadata": {},
   "outputs": [
    {
     "data": {
      "text/html": [
       "<div>\n",
       "<style scoped>\n",
       "    .dataframe tbody tr th:only-of-type {\n",
       "        vertical-align: middle;\n",
       "    }\n",
       "\n",
       "    .dataframe tbody tr th {\n",
       "        vertical-align: top;\n",
       "    }\n",
       "\n",
       "    .dataframe thead th {\n",
       "        text-align: right;\n",
       "    }\n",
       "</style>\n",
       "<table border=\"1\" class=\"dataframe\">\n",
       "  <thead>\n",
       "    <tr style=\"text-align: right;\">\n",
       "      <th></th>\n",
       "      <th>bedrs</th>\n",
       "      <th>bathrs</th>\n",
       "      <th>price_sqr_meter</th>\n",
       "    </tr>\n",
       "  </thead>\n",
       "  <tbody>\n",
       "    <tr>\n",
       "      <th>0</th>\n",
       "      <td>4</td>\n",
       "      <td>2</td>\n",
       "      <td>14956</td>\n",
       "    </tr>\n",
       "    <tr>\n",
       "      <th>1</th>\n",
       "      <td>2</td>\n",
       "      <td>1</td>\n",
       "      <td>17950</td>\n",
       "    </tr>\n",
       "    <tr>\n",
       "      <th>2</th>\n",
       "      <td>2</td>\n",
       "      <td>3</td>\n",
       "      <td>18520</td>\n",
       "    </tr>\n",
       "    <tr>\n",
       "      <th>3</th>\n",
       "      <td>1</td>\n",
       "      <td>1</td>\n",
       "      <td>28262</td>\n",
       "    </tr>\n",
       "    <tr>\n",
       "      <th>4</th>\n",
       "      <td>1</td>\n",
       "      <td>1</td>\n",
       "      <td>23064</td>\n",
       "    </tr>\n",
       "  </tbody>\n",
       "</table>\n",
       "</div>"
      ],
      "text/plain": [
       "   bedrs  bathrs  price_sqr_meter\n",
       "0      4       2            14956\n",
       "1      2       1            17950\n",
       "2      2       3            18520\n",
       "3      1       1            28262\n",
       "4      1       1            23064"
      ]
     },
     "execution_count": 27,
     "metadata": {},
     "output_type": "execute_result"
    }
   ],
   "source": [
    "df.rename(columns={'a':'bedrs','b':'bathrs','c':'price_sqr_meter'},inplace=True)\n",
    "df.head()"
   ]
  },
  {
   "cell_type": "markdown",
   "metadata": {},
   "source": [
    "### Step 5. Create a one column DataFrame with the values of the 3 Series and assign it to 'bigcolumn'"
   ]
  },
  {
   "cell_type": "code",
   "execution_count": 37,
   "metadata": {},
   "outputs": [
    {
     "data": {
      "text/plain": [
       "count      300.000000\n",
       "mean      6791.446667\n",
       "std      10167.418096\n",
       "min          1.000000\n",
       "25%          2.000000\n",
       "50%          3.000000\n",
       "75%      15509.500000\n",
       "max      29872.000000\n",
       "dtype: float64"
      ]
     },
     "execution_count": 37,
     "metadata": {},
     "output_type": "execute_result"
    }
   ],
   "source": [
    "bigcolumn=pd.concat([a,b,c])"
   ]
  },
  {
   "cell_type": "markdown",
   "metadata": {},
   "source": [
    "### Step 6. Ops it seems it is going only until index 99. Is it true?"
   ]
  },
  {
   "cell_type": "code",
   "execution_count": 39,
   "metadata": {},
   "outputs": [
    {
     "data": {
      "text/plain": [
       "0         4\n",
       "1         2\n",
       "2         2\n",
       "3         1\n",
       "4         1\n",
       "5         2\n",
       "6         2\n",
       "7         3\n",
       "8         3\n",
       "9         2\n",
       "10        4\n",
       "11        3\n",
       "12        1\n",
       "13        2\n",
       "14        2\n",
       "15        4\n",
       "16        1\n",
       "17        2\n",
       "18        2\n",
       "19        2\n",
       "20        3\n",
       "21        4\n",
       "22        2\n",
       "23        2\n",
       "24        3\n",
       "25        4\n",
       "26        2\n",
       "27        4\n",
       "28        2\n",
       "29        3\n",
       "      ...  \n",
       "70    21772\n",
       "71    16528\n",
       "72    22759\n",
       "73    12449\n",
       "74    22813\n",
       "75    14934\n",
       "76    24219\n",
       "77    29747\n",
       "78    11570\n",
       "79    24695\n",
       "80    26682\n",
       "81    28060\n",
       "82    17781\n",
       "83    14650\n",
       "84    20061\n",
       "85    19155\n",
       "86    16098\n",
       "87    29174\n",
       "88    25199\n",
       "89    26365\n",
       "90    18045\n",
       "91    16223\n",
       "92    17383\n",
       "93    29740\n",
       "94    24230\n",
       "95    26844\n",
       "96    27988\n",
       "97    16597\n",
       "98    24193\n",
       "99    11287\n",
       "Length: 300, dtype: int64"
      ]
     },
     "execution_count": 39,
     "metadata": {},
     "output_type": "execute_result"
    }
   ],
   "source": [
    "bigcolumn"
   ]
  },
  {
   "cell_type": "markdown",
   "metadata": {},
   "source": [
    "### Step 7. Reindex the DataFrame so it goes from 0 to 299"
   ]
  },
  {
   "cell_type": "code",
   "execution_count": 44,
   "metadata": {},
   "outputs": [
    {
     "data": {
      "text/plain": [
       "0          4\n",
       "1          2\n",
       "2          2\n",
       "3          1\n",
       "4          1\n",
       "5          2\n",
       "6          2\n",
       "7          3\n",
       "8          3\n",
       "9          2\n",
       "10         4\n",
       "11         3\n",
       "12         1\n",
       "13         2\n",
       "14         2\n",
       "15         4\n",
       "16         1\n",
       "17         2\n",
       "18         2\n",
       "19         2\n",
       "20         3\n",
       "21         4\n",
       "22         2\n",
       "23         2\n",
       "24         3\n",
       "25         4\n",
       "26         2\n",
       "27         4\n",
       "28         2\n",
       "29         3\n",
       "       ...  \n",
       "270    21772\n",
       "271    16528\n",
       "272    22759\n",
       "273    12449\n",
       "274    22813\n",
       "275    14934\n",
       "276    24219\n",
       "277    29747\n",
       "278    11570\n",
       "279    24695\n",
       "280    26682\n",
       "281    28060\n",
       "282    17781\n",
       "283    14650\n",
       "284    20061\n",
       "285    19155\n",
       "286    16098\n",
       "287    29174\n",
       "288    25199\n",
       "289    26365\n",
       "290    18045\n",
       "291    16223\n",
       "292    17383\n",
       "293    29740\n",
       "294    24230\n",
       "295    26844\n",
       "296    27988\n",
       "297    16597\n",
       "298    24193\n",
       "299    11287\n",
       "Length: 300, dtype: int64"
      ]
     },
     "execution_count": 44,
     "metadata": {},
     "output_type": "execute_result"
    }
   ],
   "source": [
    "bigcolumn.reset_index(drop=True)"
   ]
  },
  {
   "cell_type": "code",
   "execution_count": null,
   "metadata": {},
   "outputs": [],
   "source": []
  }
 ],
 "metadata": {
  "kernelspec": {
   "display_name": "Python 3",
   "language": "python",
   "name": "python3"
  },
  "language_info": {
   "codemirror_mode": {
    "name": "ipython",
    "version": 3
   },
   "file_extension": ".py",
   "mimetype": "text/x-python",
   "name": "python",
   "nbconvert_exporter": "python",
   "pygments_lexer": "ipython3",
   "version": "3.7.3"
  }
 },
 "nbformat": 4,
 "nbformat_minor": 1
}
