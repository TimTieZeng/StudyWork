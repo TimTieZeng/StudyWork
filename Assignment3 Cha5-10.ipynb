{
 "cells": [
  {
   "cell_type": "code",
   "execution_count": 4,
   "metadata": {},
   "outputs": [
    {
     "name": "stdout",
     "output_type": "stream",
     "text": [
      "Enter a number: 4\n",
      "Enter a number: 5\n",
      "Enter a number: bad data\n",
      "Invalid Input\n",
      "Enter a number: 7\n",
      "Enter a number: done\n",
      "16 3 5.333333333333333\n"
     ]
    }
   ],
   "source": [
    "#Ex1_Ch5\n",
    "myList=list()\n",
    "while True:\n",
    "    a=input(\"Enter a number: \")\n",
    "    if a==\"done\":\n",
    "        break\n",
    "    else:\n",
    "        try:\n",
    "            b=int(a)\n",
    "        except:\n",
    "            print(\"Invalid Input\")\n",
    "            continue\n",
    "    myList.append(b)\n",
    "print(sum(myList),len(myList),sum(myList)/len(myList))"
   ]
  },
  {
   "cell_type": "code",
   "execution_count": 5,
   "metadata": {},
   "outputs": [
    {
     "name": "stdout",
     "output_type": "stream",
     "text": [
      "Enter a number: 1\n",
      "Enter a number: 2\n",
      "Enter a number: bad data\n",
      "Invalid Input\n",
      "Enter a number: 3\n",
      "Enter a number: done\n",
      "6 3 3 1\n"
     ]
    }
   ],
   "source": [
    "#Ex2_Ch5\n",
    "myList=list()\n",
    "while True:\n",
    "    a=input(\"Enter a number: \")\n",
    "    if a==\"done\":\n",
    "        break\n",
    "    else:\n",
    "        try:\n",
    "            b=int(a)\n",
    "        except:\n",
    "            print(\"Invalid Input\")\n",
    "            continue\n",
    "    myList.append(b)\n",
    "print(sum(myList),len(myList),max(myList),min(myList))"
   ]
  },
  {
   "cell_type": "code",
   "execution_count": 14,
   "metadata": {},
   "outputs": [
    {
     "data": {
      "text/plain": [
       "0.8475"
      ]
     },
     "execution_count": 14,
     "metadata": {},
     "output_type": "execute_result"
    }
   ],
   "source": [
    "#Ex5_Ch6\n",
    "str1 = 'X-DSPAM-Confidence:0.8475'\n",
    "float(str1[str1.find(\":\")+1:])"
   ]
  },
  {
   "cell_type": "code",
   "execution_count": 7,
   "metadata": {},
   "outputs": [
    {
     "name": "stdout",
     "output_type": "stream",
     "text": [
      "Enter the file name: mbox.txt\n",
      "Average spam confidence:  0.8941280467445736\n"
     ]
    }
   ],
   "source": [
    "#Ex2_1_Ch7\n",
    "fname = input('Enter the file name: ')\n",
    "try:\n",
    "    fhand = open(fname)\n",
    "except:\n",
    "    print('File cannot be opened:', fname)\n",
    "    exit()\n",
    "count = 0\n",
    "total = 0\n",
    "for line in fhand:\n",
    "    line.rstrip()\n",
    "    if line.startswith('X-DSPAM-Confidence:'):\n",
    "        count+=1\n",
    "        total+=float(line[line.find(\":\")+1:])\n",
    "print('Average spam confidence: ', total/count)"
   ]
  },
  {
   "cell_type": "code",
   "execution_count": 8,
   "metadata": {},
   "outputs": [
    {
     "name": "stdout",
     "output_type": "stream",
     "text": [
      "Enter the file name: mbox-short.txt\n",
      "Average spam confidence:  0.7507185185185187\n"
     ]
    }
   ],
   "source": [
    "#Ex2_2_Ch7\n",
    "fname = input('Enter the file name: ')\n",
    "try:\n",
    "    fhand = open(fname)\n",
    "except:\n",
    "    print('File cannot be opened:', fname)\n",
    "    exit()\n",
    "count = 0\n",
    "total = 0\n",
    "for line in fhand:\n",
    "    line.rstrip()\n",
    "    if line.startswith('X-DSPAM-Confidence:'):\n",
    "        count+=1\n",
    "        total+=float(line[line.find(\":\")+1:])\n",
    "print('Average spam confidence: ', total/count)"
   ]
  },
  {
   "cell_type": "code",
   "execution_count": 9,
   "metadata": {},
   "outputs": [
    {
     "name": "stdout",
     "output_type": "stream",
     "text": [
      "Enter file: romeo.txt\n",
      "['Arise', 'But', 'It', 'Juliet', 'Who', 'already', 'and', 'breaks', 'east', 'envious', 'fair', 'grief', 'is', 'kill', 'light', 'moon', 'pale', 'sick', 'soft', 'sun', 'the', 'through', 'what', 'window', 'with', 'yonder']\n"
     ]
    }
   ],
   "source": [
    "#Ex4_Ch8\n",
    "fname=input(\"Enter file: \")\n",
    "l_words=[]\n",
    "try:\n",
    "    fhand=open(fname)\n",
    "except:\n",
    "    print(\"File cannot be opened: \", fname)\n",
    "    exit()\n",
    "for line in fhand:\n",
    "    line.rstrip()\n",
    "    words=line.split()\n",
    "    for word in words:\n",
    "        if word not in l_words:\n",
    "            l_words.append(word)\n",
    "print(sorted(l_words))"
   ]
  },
  {
   "cell_type": "code",
   "execution_count": 1,
   "metadata": {},
   "outputs": [
    {
     "name": "stdout",
     "output_type": "stream",
     "text": [
      "Please enter a file name: mbox-short.txt\n",
      "stephen.marquard@uct.ac.za\n",
      "louis@media.berkeley.edu\n",
      "zqian@umich.edu\n",
      "rjlowe@iupui.edu\n",
      "zqian@umich.edu\n",
      "rjlowe@iupui.edu\n",
      "cwen@iupui.edu\n",
      "cwen@iupui.edu\n",
      "gsilver@umich.edu\n",
      "gsilver@umich.edu\n",
      "zqian@umich.edu\n",
      "gsilver@umich.edu\n",
      "wagnermr@iupui.edu\n",
      "zqian@umich.edu\n",
      "antranig@caret.cam.ac.uk\n",
      "gopal.ramasammycook@gmail.com\n",
      "david.horwitz@uct.ac.za\n",
      "david.horwitz@uct.ac.za\n",
      "david.horwitz@uct.ac.za\n",
      "david.horwitz@uct.ac.za\n",
      "stephen.marquard@uct.ac.za\n",
      "louis@media.berkeley.edu\n",
      "louis@media.berkeley.edu\n",
      "ray@media.berkeley.edu\n",
      "cwen@iupui.edu\n",
      "cwen@iupui.edu\n",
      "cwen@iupui.edu\n",
      "There were 27 lines in the file with From as the first word\n"
     ]
    }
   ],
   "source": [
    "#Ex5_Ch8\n",
    "fname=input(\"Please enter a file name: \")\n",
    "try:\n",
    "    fhand=open(fname)\n",
    "except:\n",
    "    print(\"File cannot be opened: \", fname)\n",
    "    exit()\n",
    "count=0    \n",
    "for line in fhand:\n",
    "    if line.startswith(\"From\") and not line.startswith(\"From:\"):\n",
    "        count+=1\n",
    "        line.rstrip()\n",
    "        words=line.split()\n",
    "        print(words[1])\n",
    "print(\"There were \"+ str(count) + \" lines in the file with From as the first word\")"
   ]
  },
  {
   "cell_type": "code",
   "execution_count": 2,
   "metadata": {},
   "outputs": [
    {
     "name": "stdout",
     "output_type": "stream",
     "text": [
      "Enter a file name: mbox-short.txt\n",
      "{'stephen.marquard@uct.ac.za': 2, 'louis@media.berkeley.edu': 3, 'zqian@umich.edu': 4, 'rjlowe@iupui.edu': 2, 'cwen@iupui.edu': 5, 'gsilver@umich.edu': 3, 'wagnermr@iupui.edu': 1, 'antranig@caret.cam.ac.uk': 1, 'gopal.ramasammycook@gmail.com': 1, 'david.horwitz@uct.ac.za': 4, 'ray@media.berkeley.edu': 1}\n",
      "\n",
      "Person with most messages:  cwen@iupui.edu   Number of messages:  5\n"
     ]
    }
   ],
   "source": [
    "#Ex4_1_Ch9 Using max loop\n",
    "#Open the file\n",
    "fname=input(\"Enter a file name: \")\n",
    "try:\n",
    "    fhand=open(fname)\n",
    "except:\n",
    "    print(\"File cannot be opened: \", fname)\n",
    "    exit()\n",
    "#Build the dictionary\n",
    "myDict=dict()\n",
    "for line in fhand:\n",
    "    line.rstrip()\n",
    "    if line.startswith(\"From\") and not line.startswith(\"From:\"):\n",
    "        words=line.split()\n",
    "        myDict[words[1]]=myDict.get(words[1],0)+1\n",
    "print(myDict)\n",
    "#find out item with max-value in dictionary(using max loop as designated by the instruction):\n",
    "maxkey=0\n",
    "maxval=0\n",
    "for key in myDict.keys():\n",
    "    if maxval==0 or maxval<myDict[key]:\n",
    "        maxkey=key\n",
    "        maxval=myDict[key]\n",
    "print(\"\\nPerson with most messages: \", maxkey, \"  Number of messages: \",maxval)"
   ]
  },
  {
   "cell_type": "code",
   "execution_count": 3,
   "metadata": {},
   "outputs": [
    {
     "name": "stdout",
     "output_type": "stream",
     "text": [
      "Enter a file name: mbox.txt\n",
      "{'stephen.marquard@uct.ac.za': 29, 'louis@media.berkeley.edu': 24, 'zqian@umich.edu': 195, 'rjlowe@iupui.edu': 90, 'cwen@iupui.edu': 158, 'gsilver@umich.edu': 28, 'wagnermr@iupui.edu': 44, 'antranig@caret.cam.ac.uk': 18, 'gopal.ramasammycook@gmail.com': 25, 'david.horwitz@uct.ac.za': 67, 'ray@media.berkeley.edu': 32, 'mmmay@indiana.edu': 161, 'stuart.freeman@et.gatech.edu': 17, 'tnguyen@iupui.edu': 6, 'chmaurer@iupui.edu': 111, 'aaronz@vt.edu': 110, 'ian@caret.cam.ac.uk': 96, 'csev@umich.edu': 19, 'jimeng@umich.edu': 93, 'josrodri@iupui.edu': 28, 'knoop@umich.edu': 5, 'bkirschn@umich.edu': 27, 'dlhaines@umich.edu': 84, 'hu2@iupui.edu': 7, 'sgithens@caret.cam.ac.uk': 43, 'arwhyte@umich.edu': 27, 'gbhatnag@umich.edu': 3, 'gjthomas@iupui.edu': 44, 'a.fish@lancaster.ac.uk': 14, 'ajpoland@iupui.edu': 48, 'lance@indiana.edu': 8, 'ssmail@indiana.edu': 5, 'jlrenfro@ucdavis.edu': 1, 'nuno@ufp.pt': 28, 'zach.thomas@txstate.edu': 17, 'ktsao@stanford.edu': 12, 'ostermmg@whitman.edu': 17, 'john.ellis@rsmart.com': 8, 'jleasia@umich.edu': 2, 'ggolden@umich.edu': 8, 'thoppaymallika@fhda.edu': 1, 'kimsooil@bu.edu': 14, 'bahollad@indiana.edu': 4, 'jzaremba@unicon.net': 9, 'mbreuker@loi.nl': 9, 'colin.clark@utoronto.ca': 1}\n",
      "\n",
      "Reverse sorted List of Tuples:\n",
      "  [(195, 'zqian@umich.edu'), (161, 'mmmay@indiana.edu'), (158, 'cwen@iupui.edu'), (111, 'chmaurer@iupui.edu'), (110, 'aaronz@vt.edu'), (96, 'ian@caret.cam.ac.uk'), (93, 'jimeng@umich.edu'), (90, 'rjlowe@iupui.edu'), (84, 'dlhaines@umich.edu'), (67, 'david.horwitz@uct.ac.za'), (48, 'ajpoland@iupui.edu'), (44, 'wagnermr@iupui.edu'), (44, 'gjthomas@iupui.edu'), (43, 'sgithens@caret.cam.ac.uk'), (32, 'ray@media.berkeley.edu'), (29, 'stephen.marquard@uct.ac.za'), (28, 'nuno@ufp.pt'), (28, 'josrodri@iupui.edu'), (28, 'gsilver@umich.edu'), (27, 'bkirschn@umich.edu'), (27, 'arwhyte@umich.edu'), (25, 'gopal.ramasammycook@gmail.com'), (24, 'louis@media.berkeley.edu'), (19, 'csev@umich.edu'), (18, 'antranig@caret.cam.ac.uk'), (17, 'zach.thomas@txstate.edu'), (17, 'stuart.freeman@et.gatech.edu'), (17, 'ostermmg@whitman.edu'), (14, 'kimsooil@bu.edu'), (14, 'a.fish@lancaster.ac.uk'), (12, 'ktsao@stanford.edu'), (9, 'mbreuker@loi.nl'), (9, 'jzaremba@unicon.net'), (8, 'lance@indiana.edu'), (8, 'john.ellis@rsmart.com'), (8, 'ggolden@umich.edu'), (7, 'hu2@iupui.edu'), (6, 'tnguyen@iupui.edu'), (5, 'ssmail@indiana.edu'), (5, 'knoop@umich.edu'), (4, 'bahollad@indiana.edu'), (3, 'gbhatnag@umich.edu'), (2, 'jleasia@umich.edu'), (1, 'thoppaymallika@fhda.edu'), (1, 'jlrenfro@ucdavis.edu'), (1, 'colin.clark@utoronto.ca')]\n",
      "\n",
      "Person with most messages:  zqian@umich.edu   Number of messages:  195\n"
     ]
    }
   ],
   "source": [
    "#Ex4_2_Ch9 Using sorted tuple \n",
    "#Open the file\n",
    "fname=input(\"Enter a file name: \")\n",
    "try:\n",
    "    fhand=open(fname)\n",
    "except:\n",
    "    print(\"File cannot be opened: \", fname)\n",
    "    exit()\n",
    "#Build the dictionary\n",
    "myDict=dict()\n",
    "for line in fhand:\n",
    "    line.rstrip()\n",
    "    if line.startswith(\"From\") and not line.startswith(\"From:\"):\n",
    "        words=line.split()\n",
    "        myDict[words[1]]=myDict.get(words[1],0)+1\n",
    "print(myDict)\n",
    "#find out max value in dictionary(using tuple):\n",
    "myList=list()\n",
    "for key,value in myDict.items():\n",
    "    myList.append((value,key))\n",
    "myList.sort(reverse=True)\n",
    "print(\"\\nReverse sorted List of Tuples:\\n \",myList) \n",
    "print(\"\\nPerson with most messages: \",myList[0][1],\"  Number of messages: \", myList[0][0])"
   ]
  },
  {
   "cell_type": "code",
   "execution_count": 1,
   "metadata": {},
   "outputs": [
    {
     "name": "stdout",
     "output_type": "stream",
     "text": [
      "Enter a file name: mbox-short.txt\n",
      "{'uct.ac.za': 6, 'media.berkeley.edu': 4, 'umich.edu': 7, 'iupui.edu': 8, 'caret.cam.ac.uk': 1, 'gmail.com': 1}\n"
     ]
    }
   ],
   "source": [
    "#Ex5_Ch9\n",
    "#Open the file\n",
    "fname=input(\"Enter a file name: \")\n",
    "try:\n",
    "    fhand=open(fname)\n",
    "except:\n",
    "    print(\"File cannot be opened: \", fname)\n",
    "    exit()\n",
    "#Build the dictionary\n",
    "myDict=dict()\n",
    "for line in fhand:\n",
    "    line.rstrip()\n",
    "    if line.startswith(\"From\") and not line.startswith(\"From:\"):\n",
    "        words=line.split()\n",
    "        myDict[words[1][words[1].find(\"@\")+1 :]]=myDict.get(words[1][words[1].find(\"@\")+1 :],0)+1\n",
    "print(myDict)"
   ]
  },
  {
   "cell_type": "code",
   "execution_count": 3,
   "metadata": {},
   "outputs": [
    {
     "name": "stdout",
     "output_type": "stream",
     "text": [
      "Enter a file name: mbox-short.txt\n",
      "04   3\n",
      "06   1\n",
      "07   1\n",
      "09   2\n",
      "10   3\n",
      "11   6\n",
      "14   1\n",
      "15   2\n",
      "16   4\n",
      "17   2\n",
      "18   1\n",
      "19   1\n"
     ]
    }
   ],
   "source": [
    "#Ex2_Ch10\n",
    "fname=input(\"Enter a file name: \")\n",
    "try:\n",
    "    fhand=open(fname)\n",
    "except:\n",
    "    print(\"File cannot be opened: \", fname)\n",
    "    exit()\n",
    "#Build the dictionary\n",
    "myDict=dict()\n",
    "myList=list()\n",
    "for line in fhand:\n",
    "    line.rstrip()\n",
    "    if line.startswith(\"From\") and not line.startswith(\"From:\"):\n",
    "        words=line.split()\n",
    "        time=words[5].split(\":\")\n",
    "        hour=time[0]\n",
    "        myDict[hour]=myDict.get(hour,0)+1\n",
    "for hour, count in myDict.items():\n",
    "    myList.append((hour,count))\n",
    "myList.sort()\n",
    "for myTuple in myList:\n",
    "    print(myTuple[0],\" \",myTuple[1])"
   ]
  },
  {
   "cell_type": "code",
   "execution_count": 2,
   "metadata": {},
   "outputs": [
    {
     "name": "stdout",
     "output_type": "stream",
     "text": [
      "Enter a file name: TransEnglish.txt\n",
      "e 0.11678090886011679\n",
      "a 0.09900990099009901\n",
      "t 0.09672505712109672\n",
      "n 0.07590759075907591\n",
      "s 0.07336887534907337\n",
      "o 0.07006854531607007\n",
      "r 0.06575272911906575\n",
      "i 0.0654988575780655\n",
      "h 0.056105610561056105\n",
      "d 0.03376491495303376\n",
      "l 0.031226199543031227\n",
      "c 0.027164254887027166\n",
      "f 0.02614876872302615\n",
      "m 0.023863924854023864\n",
      "p 0.02234069560802234\n",
      "u 0.021325209444021324\n",
      "y 0.01904036557501904\n",
      "w 0.01827875095201828\n",
      "g 0.017263264788017263\n",
      "b 0.013962934755013963\n",
      "v 0.011678090886011678\n",
      "k 0.008377760853008377\n",
      "j 0.0033003300330033004\n",
      "z 0.0015232292460015233\n",
      "x 0.0007616146230007616\n",
      "q 0.0007616146230007616\n"
     ]
    }
   ],
   "source": [
    "#Ex3_Ch10\n",
    "import string\n",
    "myDict=dict()\n",
    "myList=list()\n",
    "total=0\n",
    "fname=input(\"Enter a file name: \")\n",
    "try:\n",
    "    fhand=open(fname)\n",
    "except:\n",
    "    print(\"File cannot be opened: \", fname)\n",
    "    exit()\n",
    "for line in fhand:\n",
    "    line_after=line.rstrip().translate(line.maketrans(\"\",\"\",string.punctuation)).lower()\n",
    "    #print(\"\\n\",line,line_after)\n",
    "    words=line_after.split()\n",
    "    #print(words)\n",
    "    for word in words:\n",
    "        for characterCount in word:\n",
    "            if characterCount.isalpha():\n",
    "                myDict[characterCount]=myDict.get(characterCount,0)+1\n",
    "#print(myDict)\n",
    "for key,value in myDict.items():\n",
    "    myList.append((value,key))\n",
    "    total=total+value\n",
    "#print(myList)\n",
    "#print(total)\n",
    "myList.sort(reverse=True)\n",
    "#print(myList)\n",
    "for keyval in myList:\n",
    "    print(keyval[1],keyval[0]/total)"
   ]
  },
  {
   "cell_type": "code",
   "execution_count": null,
   "metadata": {},
   "outputs": [],
   "source": []
  },
  {
   "cell_type": "code",
   "execution_count": null,
   "metadata": {},
   "outputs": [],
   "source": []
  }
 ],
 "metadata": {
  "kernelspec": {
   "display_name": "Python 3",
   "language": "python",
   "name": "python3"
  },
  "language_info": {
   "codemirror_mode": {
    "name": "ipython",
    "version": 3
   },
   "file_extension": ".py",
   "mimetype": "text/x-python",
   "name": "python",
   "nbconvert_exporter": "python",
   "pygments_lexer": "ipython3",
   "version": "3.7.3"
  }
 },
 "nbformat": 4,
 "nbformat_minor": 2
}
